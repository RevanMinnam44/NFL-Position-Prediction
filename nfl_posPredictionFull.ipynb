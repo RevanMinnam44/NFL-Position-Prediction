{
 "cells": [
  {
   "cell_type": "code",
   "execution_count": 56,
   "id": "556253da-b294-4954-bbdc-3f97ec72b1a4",
   "metadata": {},
   "outputs": [],
   "source": [
    "import pandas as pd\n",
    "from sklearn.model_selection import train_test_split\n",
    "from sklearn.linear_model import LinearRegression\n",
    "from sklearn.linear_model import LogisticRegression\n",
    "from sklearn.preprocessing import LabelEncoder\n",
    "from sklearn.metrics import mean_squared_error\n",
    "from sklearn.metrics import classification_report, accuracy_score"
   ]
  },
  {
   "cell_type": "code",
   "execution_count": 8,
   "id": "501c54d4-a28c-419c-b4de-35ba07c921ee",
   "metadata": {},
   "outputs": [
    {
     "data": {
      "text/html": [
       "<div>\n",
       "<style scoped>\n",
       "    .dataframe tbody tr th:only-of-type {\n",
       "        vertical-align: middle;\n",
       "    }\n",
       "\n",
       "    .dataframe tbody tr th {\n",
       "        vertical-align: top;\n",
       "    }\n",
       "\n",
       "    .dataframe thead th {\n",
       "        text-align: right;\n",
       "    }\n",
       "</style>\n",
       "<table border=\"1\" class=\"dataframe\">\n",
       "  <thead>\n",
       "    <tr style=\"text-align: right;\">\n",
       "      <th></th>\n",
       "      <th>team</th>\n",
       "      <th>player_id</th>\n",
       "      <th>player_name</th>\n",
       "      <th>position</th>\n",
       "      <th>season</th>\n",
       "      <th>depth</th>\n",
       "      <th>targets</th>\n",
       "      <th>receptions</th>\n",
       "      <th>receiving_yards</th>\n",
       "      <th>receiving_air_yards</th>\n",
       "      <th>yards_after_catch</th>\n",
       "      <th>reception_td</th>\n",
       "      <th>reception_fumble_lost</th>\n",
       "    </tr>\n",
       "  </thead>\n",
       "  <tbody>\n",
       "    <tr>\n",
       "      <th>0</th>\n",
       "      <td>TEN</td>\n",
       "      <td>00-0035676</td>\n",
       "      <td>A.J. Brown</td>\n",
       "      <td>WR</td>\n",
       "      <td>2019</td>\n",
       "      <td>2.0</td>\n",
       "      <td>84.0</td>\n",
       "      <td>52.0</td>\n",
       "      <td>1051.0</td>\n",
       "      <td>1107.0</td>\n",
       "      <td>465.0</td>\n",
       "      <td>8.0</td>\n",
       "      <td>0.0</td>\n",
       "    </tr>\n",
       "    <tr>\n",
       "      <th>1</th>\n",
       "      <td>TEN</td>\n",
       "      <td>00-0035676</td>\n",
       "      <td>A.J. Brown</td>\n",
       "      <td>WR</td>\n",
       "      <td>2020</td>\n",
       "      <td>1.0</td>\n",
       "      <td>106.0</td>\n",
       "      <td>70.0</td>\n",
       "      <td>1075.0</td>\n",
       "      <td>1150.0</td>\n",
       "      <td>432.0</td>\n",
       "      <td>12.0</td>\n",
       "      <td>1.0</td>\n",
       "    </tr>\n",
       "    <tr>\n",
       "      <th>2</th>\n",
       "      <td>TEN</td>\n",
       "      <td>00-0035676</td>\n",
       "      <td>A.J. Brown</td>\n",
       "      <td>WR</td>\n",
       "      <td>2021</td>\n",
       "      <td>1.0</td>\n",
       "      <td>105.0</td>\n",
       "      <td>63.0</td>\n",
       "      <td>869.0</td>\n",
       "      <td>1218.0</td>\n",
       "      <td>235.0</td>\n",
       "      <td>5.0</td>\n",
       "      <td>0.0</td>\n",
       "    </tr>\n",
       "    <tr>\n",
       "      <th>3</th>\n",
       "      <td>PHI</td>\n",
       "      <td>00-0035676</td>\n",
       "      <td>A.J. Brown</td>\n",
       "      <td>WR</td>\n",
       "      <td>2022</td>\n",
       "      <td>1.0</td>\n",
       "      <td>145.0</td>\n",
       "      <td>88.0</td>\n",
       "      <td>1496.0</td>\n",
       "      <td>1750.0</td>\n",
       "      <td>552.0</td>\n",
       "      <td>12.0</td>\n",
       "      <td>2.0</td>\n",
       "    </tr>\n",
       "    <tr>\n",
       "      <th>4</th>\n",
       "      <td>PHI</td>\n",
       "      <td>00-0035676</td>\n",
       "      <td>A.J. Brown</td>\n",
       "      <td>WR</td>\n",
       "      <td>2023</td>\n",
       "      <td>1.0</td>\n",
       "      <td>158.0</td>\n",
       "      <td>106.0</td>\n",
       "      <td>1456.0</td>\n",
       "      <td>1853.0</td>\n",
       "      <td>473.0</td>\n",
       "      <td>8.0</td>\n",
       "      <td>2.0</td>\n",
       "    </tr>\n",
       "  </tbody>\n",
       "</table>\n",
       "</div>"
      ],
      "text/plain": [
       "  team   player_id player_name position  season  depth  targets  receptions  \\\n",
       "0  TEN  00-0035676  A.J. Brown       WR    2019    2.0     84.0        52.0   \n",
       "1  TEN  00-0035676  A.J. Brown       WR    2020    1.0    106.0        70.0   \n",
       "2  TEN  00-0035676  A.J. Brown       WR    2021    1.0    105.0        63.0   \n",
       "3  PHI  00-0035676  A.J. Brown       WR    2022    1.0    145.0        88.0   \n",
       "4  PHI  00-0035676  A.J. Brown       WR    2023    1.0    158.0       106.0   \n",
       "\n",
       "   receiving_yards  receiving_air_yards  yards_after_catch  reception_td  \\\n",
       "0           1051.0               1107.0              465.0           8.0   \n",
       "1           1075.0               1150.0              432.0          12.0   \n",
       "2            869.0               1218.0              235.0           5.0   \n",
       "3           1496.0               1750.0              552.0          12.0   \n",
       "4           1456.0               1853.0              473.0           8.0   \n",
       "\n",
       "   reception_fumble_lost  \n",
       "0                    0.0  \n",
       "1                    1.0  \n",
       "2                    0.0  \n",
       "3                    2.0  \n",
       "4                    2.0  "
      ]
     },
     "execution_count": 8,
     "metadata": {},
     "output_type": "execute_result"
    }
   ],
   "source": [
    "df = pd.read_csv(\"/Users/revan/Downloads/new_nfldata.csv\")\n",
    "df.head()"
   ]
  },
  {
   "cell_type": "code",
   "execution_count": 12,
   "id": "7bff8205-e921-4911-9a34-3e08022b77c0",
   "metadata": {},
   "outputs": [
    {
     "data": {
      "text/plain": [
       "array(['WR', 'TE', 'RB', 'QB'], dtype=object)"
      ]
     },
     "execution_count": 12,
     "metadata": {},
     "output_type": "execute_result"
    }
   ],
   "source": [
    "df['position'].unique()"
   ]
  },
  {
   "cell_type": "code",
   "execution_count": 16,
   "id": "4e153585-3e86-45f1-ada6-4e635aeb4670",
   "metadata": {},
   "outputs": [],
   "source": [
    "nfldf = df[~df['position'].isin(['TE', 'QB'])]"
   ]
  },
  {
   "cell_type": "code",
   "execution_count": 30,
   "id": "d84a3b79-c9fb-4062-add9-ddd65784dafe",
   "metadata": {},
   "outputs": [
    {
     "name": "stderr",
     "output_type": "stream",
     "text": [
      "/var/folders/79/l_dmwqfj6v94294gmn9b0rs80000gn/T/ipykernel_96639/3010447421.py:3: SettingWithCopyWarning: \n",
      "A value is trying to be set on a copy of a slice from a DataFrame.\n",
      "Try using .loc[row_indexer,col_indexer] = value instead\n",
      "\n",
      "See the caveats in the documentation: https://pandas.pydata.org/pandas-docs/stable/user_guide/indexing.html#returning-a-view-versus-a-copy\n",
      "  nfldf['PositionEncoded'] = label_encoder.fit_transform(nfldf['position'])  # Example: WR=2, TE=1, RB=0\n"
     ]
    }
   ],
   "source": [
    "# Encode the Position column (convert categorical to numeric for regression)\n",
    "label_encoder = LabelEncoder()\n",
    "nfldf['PositionEncoded'] = label_encoder.fit_transform(nfldf['position'])  # Example: WR=2, TE=1, RB=0"
   ]
  },
  {
   "cell_type": "code",
   "execution_count": 36,
   "id": "97d747ae-714d-4af9-8e3e-f4bb0b179597",
   "metadata": {},
   "outputs": [],
   "source": [
    "# Define features (X) and target variable (y)\n",
    "X = nfldf[['targets', 'receptions','receiving_yards','receiving_air_yards','yards_after_catch','reception_td','reception_fumble_lost']]\n",
    "y = nfldf['PositionEncoded']"
   ]
  },
  {
   "cell_type": "code",
   "execution_count": 38,
   "id": "f5aabb0d-4daf-40bf-b8bb-8d356b1f8628",
   "metadata": {},
   "outputs": [],
   "source": [
    "X_train, X_test, y_train, y_test = train_test_split(X, y, test_size=0.2, random_state=42)"
   ]
  },
  {
   "cell_type": "code",
   "execution_count": 40,
   "id": "4f595cef-4896-45f2-9eff-6acf6256f4fd",
   "metadata": {},
   "outputs": [
    {
     "data": {
      "text/plain": [
       "LinearRegression()"
      ]
     },
     "execution_count": 40,
     "metadata": {},
     "output_type": "execute_result"
    }
   ],
   "source": [
    "#Train a Linear Regression\n",
    "model = LinearRegression()\n",
    "model.fit(X_train, y_train)"
   ]
  },
  {
   "cell_type": "code",
   "execution_count": 42,
   "id": "62a1cc40-69f5-43d0-8c28-43adaa322cc7",
   "metadata": {},
   "outputs": [],
   "source": [
    "# Make predictions\n",
    "y_pred = model.predict(X_test)"
   ]
  },
  {
   "cell_type": "code",
   "execution_count": 44,
   "id": "03189969-10e8-4a95-a7bc-591616808afe",
   "metadata": {},
   "outputs": [
    {
     "name": "stdout",
     "output_type": "stream",
     "text": [
      "Mean Squared Error: 0.14557453869114506\n"
     ]
    }
   ],
   "source": [
    "# Evaluate the model\n",
    "mse = mean_squared_error(y_test, y_pred)\n",
    "print(\"Mean Squared Error:\", mse)"
   ]
  },
  {
   "cell_type": "code",
   "execution_count": 52,
   "id": "24882181-25a3-4aec-b335-383eb35e6414",
   "metadata": {},
   "outputs": [
    {
     "data": {
      "text/plain": [
       "LogisticRegression()"
      ]
     },
     "execution_count": 52,
     "metadata": {},
     "output_type": "execute_result"
    }
   ],
   "source": [
    "# Train a logistic regression model\n",
    "model = LogisticRegression()\n",
    "model.fit(X_train, y_train)"
   ]
  },
  {
   "cell_type": "code",
   "execution_count": 54,
   "id": "855c7a1f-3e6b-47ce-b45c-7f6178710bd1",
   "metadata": {},
   "outputs": [],
   "source": [
    "# Make predictions\n",
    "y_pred = model.predict(X_test)"
   ]
  },
  {
   "cell_type": "code",
   "execution_count": 58,
   "id": "ae606b81-e1d3-471a-ae22-f4bf0b5d570b",
   "metadata": {},
   "outputs": [
    {
     "name": "stdout",
     "output_type": "stream",
     "text": [
      "Classification Report:\n",
      "               precision    recall  f1-score   support\n",
      "\n",
      "          RB       0.86      0.99      0.92       274\n",
      "          WR       0.99      0.90      0.95       459\n",
      "\n",
      "    accuracy                           0.94       733\n",
      "   macro avg       0.93      0.95      0.93       733\n",
      "weighted avg       0.94      0.94      0.94       733\n",
      "\n",
      "Accuracy Score: 0.9358799454297408\n"
     ]
    }
   ],
   "source": [
    "# Evaluate the model\n",
    "print(\"Classification Report:\\n\", classification_report(y_test, y_pred, target_names=label_encoder.classes_))\n",
    "print(\"Accuracy Score:\", accuracy_score(y_test, y_pred))"
   ]
  },
  {
   "cell_type": "code",
   "execution_count": null,
   "id": "6ced1bd4-c38d-4380-9ef8-57686395c6b0",
   "metadata": {},
   "outputs": [],
   "source": []
  },
  {
   "cell_type": "code",
   "execution_count": 60,
   "id": "02655841-0971-42ca-841d-a33b4c6e86d7",
   "metadata": {},
   "outputs": [],
   "source": [
    "nfldf.to_csv(\"/Users/revan/Downloads/new_nfldata_2.csv\", index=False)"
   ]
  }
 ],
 "metadata": {
  "kernelspec": {
   "display_name": "Python 3 (ipykernel)",
   "language": "python",
   "name": "python3"
  },
  "language_info": {
   "codemirror_mode": {
    "name": "ipython",
    "version": 3
   },
   "file_extension": ".py",
   "mimetype": "text/x-python",
   "name": "python",
   "nbconvert_exporter": "python",
   "pygments_lexer": "ipython3",
   "version": "3.9.18"
  }
 },
 "nbformat": 4,
 "nbformat_minor": 5
}
