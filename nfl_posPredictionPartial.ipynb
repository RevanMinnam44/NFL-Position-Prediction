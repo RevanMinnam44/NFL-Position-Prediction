{
 "cells": [
  {
   "cell_type": "code",
   "execution_count": 236,
   "id": "aeb8a6e6-d5b6-4448-a447-18c37b3a4dce",
   "metadata": {},
   "outputs": [],
   "source": [
    "import pandas as pd\n",
    "import math\n",
    "import random"
   ]
  },
  {
   "cell_type": "code",
   "execution_count": 4,
   "id": "6f79d00d-16b0-4955-a4d9-12a8b8dce15f",
   "metadata": {},
   "outputs": [
    {
     "data": {
      "text/html": [
       "<div>\n",
       "<style scoped>\n",
       "    .dataframe tbody tr th:only-of-type {\n",
       "        vertical-align: middle;\n",
       "    }\n",
       "\n",
       "    .dataframe tbody tr th {\n",
       "        vertical-align: top;\n",
       "    }\n",
       "\n",
       "    .dataframe thead th {\n",
       "        text-align: right;\n",
       "    }\n",
       "</style>\n",
       "<table border=\"1\" class=\"dataframe\">\n",
       "  <thead>\n",
       "    <tr style=\"text-align: right;\">\n",
       "      <th></th>\n",
       "      <th>team</th>\n",
       "      <th>player_id</th>\n",
       "      <th>player_name</th>\n",
       "      <th>position</th>\n",
       "      <th>season</th>\n",
       "      <th>depth</th>\n",
       "      <th>targets</th>\n",
       "      <th>receptions</th>\n",
       "      <th>receiving_yards</th>\n",
       "      <th>receiving_air_yards</th>\n",
       "      <th>yards_after_catch</th>\n",
       "      <th>reception_td</th>\n",
       "      <th>reception_fumble_lost</th>\n",
       "      <th>PositionEncoded</th>\n",
       "    </tr>\n",
       "  </thead>\n",
       "  <tbody>\n",
       "    <tr>\n",
       "      <th>0</th>\n",
       "      <td>TEN</td>\n",
       "      <td>00-0035676</td>\n",
       "      <td>A.J. Brown</td>\n",
       "      <td>WR</td>\n",
       "      <td>2019</td>\n",
       "      <td>2.0</td>\n",
       "      <td>84.0</td>\n",
       "      <td>52.0</td>\n",
       "      <td>1051.0</td>\n",
       "      <td>1107.0</td>\n",
       "      <td>465.0</td>\n",
       "      <td>8.0</td>\n",
       "      <td>0.0</td>\n",
       "      <td>1</td>\n",
       "    </tr>\n",
       "    <tr>\n",
       "      <th>1</th>\n",
       "      <td>TEN</td>\n",
       "      <td>00-0035676</td>\n",
       "      <td>A.J. Brown</td>\n",
       "      <td>WR</td>\n",
       "      <td>2020</td>\n",
       "      <td>1.0</td>\n",
       "      <td>106.0</td>\n",
       "      <td>70.0</td>\n",
       "      <td>1075.0</td>\n",
       "      <td>1150.0</td>\n",
       "      <td>432.0</td>\n",
       "      <td>12.0</td>\n",
       "      <td>1.0</td>\n",
       "      <td>1</td>\n",
       "    </tr>\n",
       "    <tr>\n",
       "      <th>2</th>\n",
       "      <td>TEN</td>\n",
       "      <td>00-0035676</td>\n",
       "      <td>A.J. Brown</td>\n",
       "      <td>WR</td>\n",
       "      <td>2021</td>\n",
       "      <td>1.0</td>\n",
       "      <td>105.0</td>\n",
       "      <td>63.0</td>\n",
       "      <td>869.0</td>\n",
       "      <td>1218.0</td>\n",
       "      <td>235.0</td>\n",
       "      <td>5.0</td>\n",
       "      <td>0.0</td>\n",
       "      <td>1</td>\n",
       "    </tr>\n",
       "    <tr>\n",
       "      <th>3</th>\n",
       "      <td>PHI</td>\n",
       "      <td>00-0035676</td>\n",
       "      <td>A.J. Brown</td>\n",
       "      <td>WR</td>\n",
       "      <td>2022</td>\n",
       "      <td>1.0</td>\n",
       "      <td>145.0</td>\n",
       "      <td>88.0</td>\n",
       "      <td>1496.0</td>\n",
       "      <td>1750.0</td>\n",
       "      <td>552.0</td>\n",
       "      <td>12.0</td>\n",
       "      <td>2.0</td>\n",
       "      <td>1</td>\n",
       "    </tr>\n",
       "    <tr>\n",
       "      <th>4</th>\n",
       "      <td>PHI</td>\n",
       "      <td>00-0035676</td>\n",
       "      <td>A.J. Brown</td>\n",
       "      <td>WR</td>\n",
       "      <td>2023</td>\n",
       "      <td>1.0</td>\n",
       "      <td>158.0</td>\n",
       "      <td>106.0</td>\n",
       "      <td>1456.0</td>\n",
       "      <td>1853.0</td>\n",
       "      <td>473.0</td>\n",
       "      <td>8.0</td>\n",
       "      <td>2.0</td>\n",
       "      <td>1</td>\n",
       "    </tr>\n",
       "  </tbody>\n",
       "</table>\n",
       "</div>"
      ],
      "text/plain": [
       "  team   player_id player_name position  season  depth  targets  receptions  \\\n",
       "0  TEN  00-0035676  A.J. Brown       WR    2019    2.0     84.0        52.0   \n",
       "1  TEN  00-0035676  A.J. Brown       WR    2020    1.0    106.0        70.0   \n",
       "2  TEN  00-0035676  A.J. Brown       WR    2021    1.0    105.0        63.0   \n",
       "3  PHI  00-0035676  A.J. Brown       WR    2022    1.0    145.0        88.0   \n",
       "4  PHI  00-0035676  A.J. Brown       WR    2023    1.0    158.0       106.0   \n",
       "\n",
       "   receiving_yards  receiving_air_yards  yards_after_catch  reception_td  \\\n",
       "0           1051.0               1107.0              465.0           8.0   \n",
       "1           1075.0               1150.0              432.0          12.0   \n",
       "2            869.0               1218.0              235.0           5.0   \n",
       "3           1496.0               1750.0              552.0          12.0   \n",
       "4           1456.0               1853.0              473.0           8.0   \n",
       "\n",
       "   reception_fumble_lost  PositionEncoded  \n",
       "0                    0.0                1  \n",
       "1                    1.0                1  \n",
       "2                    0.0                1  \n",
       "3                    2.0                1  \n",
       "4                    2.0                1  "
      ]
     },
     "execution_count": 4,
     "metadata": {},
     "output_type": "execute_result"
    }
   ],
   "source": [
    "nfldf = pd.read_csv(\"/Users/revan/Downloads/new_nfldata_2.csv\")\n",
    "nfldf.head()"
   ]
  },
  {
   "cell_type": "code",
   "execution_count": 212,
   "id": "4334a165-908d-45d8-819c-c32362220abb",
   "metadata": {},
   "outputs": [],
   "source": [
    "nfldf['yards_per_target'] = [y / (t + 1) for y, t in zip(nfldf['receiving_yards'], nfldf['targets'])]  # Avoid division by zero\n",
    "nfldf['yards_per_reception'] = [y / (r + 1) for y, r in zip(nfldf['receiving_yards'], nfldf['receptions'])]\n",
    "nfldf['td_per_reception'] = [td / (r + 1) for td, r in zip(nfldf['reception_td'], nfldf['receptions'])]\n",
    "nfldf['targets_receptions'] = [t * r for t, r in zip(nfldf['targets'], nfldf['receptions'])]\n",
    "nfldf['yards_touchdowns'] = [y * td for y, td in zip(nfldf['receiving_yards'], nfldf['reception_td'])]"
   ]
  },
  {
   "cell_type": "code",
   "execution_count": 214,
   "id": "9a3f3dad-fa87-46df-9bff-32b5112f9a8b",
   "metadata": {},
   "outputs": [],
   "source": [
    "feature_cols = ['targets', 'receptions', 'receiving_yards', 'receiving_air_yards',\n",
    "                'yards_after_catch', 'reception_td', 'reception_fumble_lost',\n",
    "                'yards_per_target', 'yards_per_reception', 'td_per_reception',\n",
    "                'targets_receptions', 'yards_touchdowns']"
   ]
  },
  {
   "cell_type": "code",
   "execution_count": 216,
   "id": "c17d04be-17fd-4f09-831a-3b243fda8444",
   "metadata": {},
   "outputs": [],
   "source": [
    "for col in feature_cols:\n",
    "    min_val, max_val = min(nfldf[col]), max(nfldf[col])\n",
    "    nfldf[col] = [(x - min_val) / (max_val - min_val) for x in nfldf[col]]"
   ]
  },
  {
   "cell_type": "code",
   "execution_count": 218,
   "id": "ca3fa89e-8152-4088-b641-47e6528f5744",
   "metadata": {},
   "outputs": [],
   "source": [
    "# Prepare features (X) and target (y)\n",
    "X = nfldf[feature_cols].values\n",
    "y = nfldf['PositionEncoded'].values"
   ]
  },
  {
   "cell_type": "code",
   "execution_count": 220,
   "id": "c5164f6e-78c7-4c76-aa1c-4fbf97822849",
   "metadata": {},
   "outputs": [],
   "source": [
    "X = (X - X.mean(axis=0)) / X.std(axis=0)"
   ]
  },
  {
   "cell_type": "code",
   "execution_count": 222,
   "id": "274996a2-2ca8-4e01-be2c-3b2451a7f048",
   "metadata": {},
   "outputs": [],
   "source": [
    "ones = [[1] for _ in range(len(X))]\n",
    "X = [o + list(row) for o, row in zip(ones, X)] "
   ]
  },
  {
   "cell_type": "code",
   "execution_count": 268,
   "id": "b4f7a1fb-0d90-4927-ad0d-d18c46d19f79",
   "metadata": {},
   "outputs": [],
   "source": [
    "def sigmoid(z):\n",
    "    if z >= 0:\n",
    "        return 1 / (1 + math.exp(-z))\n",
    "    else:\n",
    "        exp_z = math.exp(z)  # Use e^z for stability when z < 0\n",
    "        return exp_z / (1 + exp_z)"
   ]
  },
  {
   "cell_type": "code",
   "execution_count": 310,
   "id": "ab7479d1-dc9c-4ada-ae17-c3ff180b0f2d",
   "metadata": {},
   "outputs": [],
   "source": [
    "def logistic_regression(X, y, lr=0.01, epochs=10000):\n",
    "    n_features = len(X[0])\n",
    "    beta = [0.0] * n_features  # Initialize coefficients\n",
    "\n",
    "    for epoch in range(epochs):\n",
    "        # Shuffle training data for stochastic updates\n",
    "        data = list(zip(X, y))\n",
    "        random.shuffle(data)\n",
    "        X, y = zip(*data)  # Unzip shuffled data\n",
    "\n",
    "        # SGD: Update for each example\n",
    "        for i in range(len(X)):\n",
    "            z = sum(a * b for a, b in zip(X[i], beta))\n",
    "            pred = sigmoid(z)\n",
    "            error = pred - y[i]\n",
    "\n",
    "            # Update coefficients based on one training sample at a time\n",
    "            for j in range(n_features):\n",
    "                beta[j] -= lr * error * X[i][j]\n",
    "\n",
    "    return beta"
   ]
  },
  {
   "cell_type": "code",
   "execution_count": 312,
   "id": "146b8d4b-760a-4b7f-8df0-370801087e51",
   "metadata": {},
   "outputs": [],
   "source": [
    "coefficients = logistic_regression(X, y)"
   ]
  },
  {
   "cell_type": "code",
   "execution_count": 304,
   "id": "d5c28d80-ff9a-466c-aa41-c265aabde4f6",
   "metadata": {},
   "outputs": [],
   "source": [
    "def predict(X, coefficients):\n",
    "    predictions = []\n",
    "    for row in X:\n",
    "        z = sum(a * b for a, b in zip(row, coefficients))\n",
    "        prob = sigmoid(z)\n",
    "        predictions.append(1 if prob >= 0.5 else 0)\n",
    "    return predictions"
   ]
  },
  {
   "cell_type": "code",
   "execution_count": 306,
   "id": "ba3e28f5-16f1-4655-9f5c-e773d1f1c6f3",
   "metadata": {},
   "outputs": [],
   "source": [
    "y_pred = predict(X, coefficients)"
   ]
  },
  {
   "cell_type": "code",
   "execution_count": 308,
   "id": "4d4407b9-a94b-49b3-8f31-5c8606fe3247",
   "metadata": {},
   "outputs": [
    {
     "name": "stdout",
     "output_type": "stream",
     "text": [
      "Accuracy: 0.941031941031941\n"
     ]
    }
   ],
   "source": [
    "accuracy = sum(1 for actual, predicted in zip(y, y_pred) if actual == predicted) / len(y_pred)\n",
    "#print(\"Coefficients:\", coefficients)\n",
    "#print(\"Predictions:\", y_pred)\n",
    "#print(\"Actual:\", y)\n",
    "print(\"Accuracy:\", accuracy)"
   ]
  },
  {
   "cell_type": "code",
   "execution_count": null,
   "id": "0604db92-6df2-49de-af79-ecaa33c4cfa9",
   "metadata": {},
   "outputs": [],
   "source": []
  }
 ],
 "metadata": {
  "kernelspec": {
   "display_name": "Python 3 (ipykernel)",
   "language": "python",
   "name": "python3"
  },
  "language_info": {
   "codemirror_mode": {
    "name": "ipython",
    "version": 3
   },
   "file_extension": ".py",
   "mimetype": "text/x-python",
   "name": "python",
   "nbconvert_exporter": "python",
   "pygments_lexer": "ipython3",
   "version": "3.9.18"
  }
 },
 "nbformat": 4,
 "nbformat_minor": 5
}
