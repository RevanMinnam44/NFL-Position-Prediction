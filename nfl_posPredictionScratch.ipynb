{
 "cells": [
  {
   "cell_type": "code",
   "execution_count": 1,
   "id": "9cbdd1a3-a3f8-443c-9b70-5e20aa09965d",
   "metadata": {},
   "outputs": [],
   "source": [
    "def read_csv(filename):\n",
    "    #reads a CSV file and returns a list of lists (rows of data)\n",
    "    data = []\n",
    "\n",
    "    with open(filename, \"r\") as file:\n",
    "        lines = file.readlines()\n",
    "\n",
    "    #process each row manually\n",
    "    for line in lines:\n",
    "        row = line.strip().split(\",\")  \n",
    "        data.append(row) \n",
    "\n",
    "    return data"
   ]
  },
  {
   "cell_type": "code",
   "execution_count": 3,
   "id": "0e2598f0-ad91-4344-b439-7aa5c83f44fb",
   "metadata": {},
   "outputs": [],
   "source": [
    "filename = \"/Users/revan/Downloads/new_nfldata_2.csv\""
   ]
  },
  {
   "cell_type": "code",
   "execution_count": 5,
   "id": "91094019-5006-4fa8-865a-f42e4b9c8685",
   "metadata": {},
   "outputs": [],
   "source": [
    "#load data\n",
    "data = read_csv(filename)"
   ]
  },
  {
   "cell_type": "code",
   "execution_count": 7,
   "id": "6b50b7dc-ea8e-4a01-8080-4df65e96606d",
   "metadata": {},
   "outputs": [],
   "source": [
    "#seperate column names and data\n",
    "headers = data[0]\n",
    "data = data[1:]"
   ]
  },
  {
   "cell_type": "code",
   "execution_count": 9,
   "id": "e146aebe-4d6f-4596-beea-b5b0891e9144",
   "metadata": {},
   "outputs": [],
   "source": [
    "useful_features = ['targets', 'receptions', 'receiving_yards', 'receiving_air_yards',\n",
    "'yards_after_catch', 'reception_td', 'reception_fumble_lost', 'PositionEncoded']"
   ]
  },
  {
   "cell_type": "code",
   "execution_count": 11,
   "id": "446d1e00-b60b-415c-be20-0ca000f20d86",
   "metadata": {},
   "outputs": [],
   "source": [
    "feature_indices = [headers.index(col) for col in useful_features]"
   ]
  },
  {
   "cell_type": "code",
   "execution_count": 13,
   "id": "83bf632a-8d7b-453b-9caf-447dafaef151",
   "metadata": {},
   "outputs": [],
   "source": [
    "filtered_data = [[row[i] for i in feature_indices] for row in data]"
   ]
  },
  {
   "cell_type": "code",
   "execution_count": 15,
   "id": "597e5a79-5d32-494c-a531-c41332c85e3d",
   "metadata": {},
   "outputs": [],
   "source": [
    "for i in range(len(filtered_data)):\n",
    "    for j in range(len(filtered_data[i])):\n",
    "        val = filtered_data[i][j]\n",
    "        if val.lstrip('-').replace('.', '', 1).isdigit():  #handles negatives\n",
    "            filtered_data[i][j] = float(val)"
   ]
  },
  {
   "cell_type": "code",
   "execution_count": 17,
   "id": "b706695d-753c-48c7-8cfd-796c9caf77d0",
   "metadata": {},
   "outputs": [],
   "source": [
    "X = [row[:-1] for row in filtered_data]\n",
    "y = [row[-1] for row in filtered_data]"
   ]
  },
  {
   "cell_type": "code",
   "execution_count": 19,
   "id": "45d63584-37cf-4c02-b04c-9e82f48b5926",
   "metadata": {},
   "outputs": [],
   "source": [
    "for i in range(len(X)):\n",
    "    X[i].append(X[i][2] / (X[i][0] + 1))  #yards per target\n",
    "    X[i].append(X[i][2] / (X[i][1] + 1))  #yards per reception\n",
    "    X[i].append(X[i][5] / (X[i][1] + 1))  #TDs per reception\n",
    "    X[i].append(X[i][0] * X[i][1])        #targets * receptions\n",
    "    X[i].append(X[i][2] * X[i][5])        #yards * TDs"
   ]
  },
  {
   "cell_type": "code",
   "execution_count": 21,
   "id": "16827cf8-8817-4c68-bb24-d41985c5866a",
   "metadata": {},
   "outputs": [],
   "source": [
    "def robust_scaling(matrix): #Scales data using median and interquartile range (IQR)\n",
    "    for col in range(len(matrix[0])):\n",
    "        col_values = [matrix[row][col] for row in range(len(matrix))]\n",
    "        col_values.sort()\n",
    "        \n",
    "        median = col_values[len(col_values) // 2]\n",
    "        q1 = col_values[len(col_values) // 4]\n",
    "        q3 = col_values[3 * len(col_values) // 4]\n",
    "        iqr = q3 - q1\n",
    "\n",
    "        #apply robust scaling\n",
    "        for row in range(len(matrix)):\n",
    "            matrix[row][col] = (matrix[row][col] - median) / iqr if iqr != 0 else 0\n",
    "\n",
    "robust_scaling(X) "
   ]
  },
  {
   "cell_type": "code",
   "execution_count": 23,
   "id": "ffa8b59b-cce6-4754-8761-a12d9867c66a",
   "metadata": {},
   "outputs": [],
   "source": [
    "def z_score_scaling(matrix): #standardizes data using Z-score normalization\n",
    "    for col in range(len(matrix[0])):\n",
    "        col_values = [matrix[row][col] for row in range(len(matrix))]\n",
    "        mean = sum(col_values) / len(col_values)\n",
    "        std_dev = (sum((x - mean) ** 2 for x in col_values) / len(col_values)) ** 0.5\n",
    "\n",
    "        # Apply scaling\n",
    "        for row in range(len(matrix)):\n",
    "            matrix[row][col] = (matrix[row][col] - mean) / std_dev if std_dev != 0 else 0\n",
    "\n",
    "z_score_scaling(X)  #apply Standardization"
   ]
  },
  {
   "cell_type": "code",
   "execution_count": 25,
   "id": "7cbd67a7-4947-4940-8022-20993db3d40a",
   "metadata": {},
   "outputs": [],
   "source": [
    "#adds a leading 1 to each row for bias term\n",
    "for row in X:    \n",
    "    row.insert(0, 1)"
   ]
  },
  {
   "cell_type": "code",
   "execution_count": 27,
   "id": "ff40a464-ea3f-4a63-893e-cfe23ea3b366",
   "metadata": {},
   "outputs": [],
   "source": [
    "def exp_approx(x, terms=20): #use taylor series to approx e^x\n",
    "    result, factorial, power = 1, 1, 1\n",
    "    for i in range(1, terms):\n",
    "        factorial *= i\n",
    "        power *= x\n",
    "        result += power / factorial\n",
    "    return result\n",
    "\n",
    "#sigmoid function\n",
    "def sigmoid(z):\n",
    "    if z >= 0:\n",
    "        return 1 / (1 + exp_approx(-z))\n",
    "    else:\n",
    "        exp_z = exp_approx(z)\n",
    "        return exp_z / (1 + exp_z)"
   ]
  },
  {
   "cell_type": "code",
   "execution_count": 29,
   "id": "02d8881f-0242-4010-a405-429157f38ac2",
   "metadata": {},
   "outputs": [],
   "source": [
    "#fisher-yates shuffle\n",
    "def manual_shuffle(X, y):\n",
    "    for i in range(len(X) - 1, 0, -1):\n",
    "        j = (i * 13) % (i + 1)  # Change multiplication factor to improve randomness\n",
    "        X[i], X[j] = X[j], X[i]\n",
    "        y[i], y[j] = y[j], y[i]"
   ]
  },
  {
   "cell_type": "code",
   "execution_count": 31,
   "id": "708e16e3-21fb-4c89-92e4-01a7ee479db4",
   "metadata": {},
   "outputs": [],
   "source": [
    "#logistic regression\n",
    "def logistic_regression(X, y, lr=0.0001, epochs=15000, lambda_=0.01):\n",
    "    beta = [0.0] * len(X[0])\n",
    "    prev_accuracy = 0 \n",
    "    patience = 5 \n",
    "    no_improve_count = 0\n",
    "    lambda_l1 = 0.001  # L1 strength (Lasso)\n",
    "    lambda_l2 = 0.001  # L2 strength (Ridge)\n",
    "\n",
    "    for epoch in range(epochs):\n",
    "        manual_shuffle(X, y)  \n",
    "\n",
    "        for i in range(len(X)):  \n",
    "            z = sum(X[i][j] * beta[j] for j in range(len(X[i])))\n",
    "            pred = sigmoid(z)\n",
    "            error = pred - y[i]\n",
    "\n",
    "            for j in range(len(X[i])):\n",
    "                beta[j] -= lr * (error * X[i][j] + lambda_l2 * beta[j] + lambda_l1 * (1 if beta[j] > 0 else -1))\n",
    "\n",
    "        if epoch % 500 == 0:\n",
    "            y_pred = predict(X, beta)\n",
    "            current_accuracy = sum(1 for actual, predicted in zip(y, y_pred) if actual == predicted) / len(y)\n",
    "            print(f\"Epoch {epoch}: Accuracy = {current_accuracy:.4f}\")\n",
    "\n",
    "            # Check for improvement\n",
    "            if abs(prev_accuracy - current_accuracy) < 0.0001:\n",
    "                no_improve_count += 1\n",
    "            else:\n",
    "                no_improve_count = 0  #reset if improvement occurs\n",
    "            \n",
    "            if no_improve_count >= patience:\n",
    "                print(\"Early stopping triggered.\")\n",
    "                break  #stop training\n",
    "            \n",
    "            prev_accuracy = current_accuracy  #update previous accuracy\n",
    "\n",
    "    return beta"
   ]
  },
  {
   "cell_type": "code",
   "execution_count": 33,
   "id": "229eb821-65d1-4c49-9914-faef9ee09b01",
   "metadata": {},
   "outputs": [],
   "source": [
    "def predict(X, beta):\n",
    "    return [1 if sigmoid(sum(X[i][j] * beta[j] for j in range(len(X[i])))) >= 0.5 else 0 for i in range(len(X))]"
   ]
  },
  {
   "cell_type": "code",
   "execution_count": 35,
   "id": "7ef075ab-ea1c-4ae2-9116-3567b7ab788e",
   "metadata": {},
   "outputs": [
    {
     "name": "stdout",
     "output_type": "stream",
     "text": [
      "Epoch 0: Accuracy = 0.7428\n",
      "Epoch 500: Accuracy = 0.8979\n",
      "Epoch 1000: Accuracy = 0.8990\n",
      "Epoch 1500: Accuracy = 0.8990\n",
      "Epoch 2000: Accuracy = 0.8987\n",
      "Epoch 2500: Accuracy = 0.8982\n",
      "Epoch 3000: Accuracy = 0.8979\n",
      "Epoch 3500: Accuracy = 0.8982\n",
      "Epoch 4000: Accuracy = 0.8982\n",
      "Epoch 4500: Accuracy = 0.8982\n",
      "Epoch 5000: Accuracy = 0.8982\n",
      "Epoch 5500: Accuracy = 0.8982\n",
      "Epoch 6000: Accuracy = 0.8982\n",
      "Early stopping triggered.\n"
     ]
    }
   ],
   "source": [
    "coefficients = logistic_regression(X, y)"
   ]
  },
  {
   "cell_type": "code",
   "execution_count": 37,
   "id": "7e3aa2ed-2757-44ad-9f8c-585ecb0fdb10",
   "metadata": {},
   "outputs": [],
   "source": [
    "y_pred = predict(X, coefficients)\n",
    "accuracy = sum(1 for actual, predicted in zip(y, y_pred) if actual == predicted) / len(y)"
   ]
  },
  {
   "cell_type": "code",
   "execution_count": 39,
   "id": "cc5b1a6e-d8ec-4588-b44f-5aa638c1235f",
   "metadata": {},
   "outputs": [
    {
     "name": "stdout",
     "output_type": "stream",
     "text": [
      "\n",
      "Final Accuracy: 0.8981708981708981\n"
     ]
    }
   ],
   "source": [
    "print(\"\\nFinal Accuracy:\", accuracy)\n",
    "#print(\"Final Coefficients:\", coefficients)\n",
    "#print(\"Predictions:\", y_pred[:10])\n",
    "#print(\"Actual Labels:\", y[:10])  "
   ]
  },
  {
   "cell_type": "code",
   "execution_count": null,
   "id": "a5c42bb9-306b-442c-87fe-a1a5e5f8c9b4",
   "metadata": {},
   "outputs": [],
   "source": []
  },
  {
   "cell_type": "code",
   "execution_count": null,
   "id": "f45412f4-37dc-4af5-8a6e-cf88573cdc2f",
   "metadata": {},
   "outputs": [],
   "source": []
  }
 ],
 "metadata": {
  "kernelspec": {
   "display_name": "Python 3 (ipykernel)",
   "language": "python",
   "name": "python3"
  },
  "language_info": {
   "codemirror_mode": {
    "name": "ipython",
    "version": 3
   },
   "file_extension": ".py",
   "mimetype": "text/x-python",
   "name": "python",
   "nbconvert_exporter": "python",
   "pygments_lexer": "ipython3",
   "version": "3.9.18"
  }
 },
 "nbformat": 4,
 "nbformat_minor": 5
}
